{
  "nbformat": 4,
  "nbformat_minor": 0,
  "metadata": {
    "colab": {
      "name": "inverted-index-pyspark-post.ipynb",
      "provenance": [],
      "collapsed_sections": []
    },
    "kernelspec": {
      "name": "python3",
      "display_name": "Python 3"
    }
  },
  "cells": [
    {
      "cell_type": "code",
      "metadata": {
        "id": "V7CqdE1VhI8_",
        "colab_type": "code",
        "colab": {}
      },
      "source": [
        "!apt-get install openjdk-8-jdk-headless -qq > /dev/null\n",
        "!wget -q https://archive.apache.org/dist/spark/spark-2.4.4/spark-2.4.4-bin-hadoop2.7.tgz\n",
        "!tar xf spark-2.4.4-bin-hadoop2.7.tgz\n",
        "!pip install -q findspark\n",
        "\n",
        "import os\n",
        "os.environ[\"JAVA_HOME\"] = \"/usr/lib/jvm/java-8-openjdk-amd64\"\n",
        "os.environ[\"SPARK_HOME\"] = \"/content/spark-2.4.4-bin-hadoop2.7\"\n",
        "\n",
        "import findspark\n",
        "findspark.init(\"spark-2.4.4-bin-hadoop2.7\")# SPARK_HOME\n",
        "\n",
        "from pyspark import SparkContext\n",
        "sc = SparkContext.getOrCreate()"
      ],
      "execution_count": 0,
      "outputs": []
    },
    {
      "cell_type": "code",
      "metadata": {
        "id": "4wvdXQxh9m2f",
        "colab_type": "code",
        "colab": {
          "base_uri": "https://localhost:8080/",
          "height": 120
        },
        "outputId": "ec9043ad-a4fc-479b-98ef-939653d0bb05"
      },
      "source": [
        "from google.colab import drive\n",
        "drive.mount('/content/drive')"
      ],
      "execution_count": 4,
      "outputs": [
        {
          "output_type": "stream",
          "text": [
            "Go to this URL in a browser: https://accounts.google.com/o/oauth2/auth?client_id=947318989803-6bn6qk8qdgf4n4g3pfee6491hc0brc4i.apps.googleusercontent.com&redirect_uri=urn%3aietf%3awg%3aoauth%3a2.0%3aoob&response_type=code&scope=email%20https%3a%2f%2fwww.googleapis.com%2fauth%2fdocs.test%20https%3a%2f%2fwww.googleapis.com%2fauth%2fdrive%20https%3a%2f%2fwww.googleapis.com%2fauth%2fdrive.photos.readonly%20https%3a%2f%2fwww.googleapis.com%2fauth%2fpeopleapi.readonly\n",
            "\n",
            "Enter your authorization code:\n",
            "··········\n",
            "Mounted at /content/drive\n"
          ],
          "name": "stdout"
        }
      ]
    },
    {
      "cell_type": "code",
      "metadata": {
        "id": "tFQa1qU-Ml-B",
        "colab_type": "code",
        "outputId": "eb63b277-e059-473e-c072-4683c661e7cc",
        "colab": {
          "base_uri": "https://localhost:8080/",
          "height": 33
        }
      },
      "source": [
        "# Put input_docs_sample.zip in your Google Drive\n",
        "\n",
        "!rm -rf input_docs\n",
        "!cp /content/drive/My\\ Drive/input_docs.zip .\n",
        "# !cp /content/drive/My\\ Drive/input_docs_sample.zip .\n",
        "!unzip input_docs.zip > /dev/null\n",
        "# !unzip input_docs_sample.zip > /dev/null\n",
        "!ls input_docs/ | wc -l\n",
        "\n",
        "# for the real collection change above input_docs_sample.zip to input_docs.zip\n",
        "# for the sample collection of 5 docs, the process is fast\n",
        "# for the real collection, the process takes about 6 min (start to finish, the whole notebook) "
      ],
      "execution_count": 5,
      "outputs": [
        {
          "output_type": "stream",
          "text": [
            "19026\n"
          ],
          "name": "stdout"
        }
      ]
    },
    {
      "cell_type": "code",
      "metadata": {
        "id": "SW0lXYo6Hqso",
        "colab_type": "code",
        "outputId": "09b3788a-2c6e-4633-fbe9-b3c730dcd821",
        "colab": {
          "base_uri": "https://localhost:8080/",
          "height": 100
        }
      },
      "source": [
        "import nltk\n",
        "nltk.download('stopwords')\n",
        "nltk.download('wordnet')"
      ],
      "execution_count": 6,
      "outputs": [
        {
          "output_type": "stream",
          "text": [
            "[nltk_data] Downloading package stopwords to /root/nltk_data...\n",
            "[nltk_data]   Unzipping corpora/stopwords.zip.\n",
            "[nltk_data] Downloading package wordnet to /root/nltk_data...\n",
            "[nltk_data]   Unzipping corpora/wordnet.zip.\n"
          ],
          "name": "stdout"
        },
        {
          "output_type": "execute_result",
          "data": {
            "text/plain": [
              "True"
            ]
          },
          "metadata": {
            "tags": []
          },
          "execution_count": 6
        }
      ]
    },
    {
      "cell_type": "markdown",
      "metadata": {
        "id": "usmMrr5Uhipf",
        "colab_type": "text"
      },
      "source": [
        "**Create an RDD from a text file**\n",
        "\n",
        "Each line of the text file becomes an element of the RDD."
      ]
    },
    {
      "cell_type": "code",
      "metadata": {
        "id": "TVfPs26GjAal",
        "colab_type": "code",
        "outputId": "17525510-f992-4bd4-ed14-b0d68fe9b29f",
        "colab": {
          "base_uri": "https://localhost:8080/",
          "height": 87
        }
      },
      "source": [
        "%%time\n",
        "\n",
        "# wholeTextFiles generates an RDD of pair values, \n",
        "# where the key is the full path of each file, the value is the content of each file\n",
        "#input = sc.wholeTextFiles(\"/content/drive/My\\ Drive/input_docs\");\n",
        "input = sc.wholeTextFiles(\"input_docs\");\n",
        "\n",
        "# Now we strip the prefix of filenames and leave only the basename. \n",
        "# e.g. 'file:/content/drive/My Drive/Colab Notebooks/data_spark/input_docs/3.html'\n",
        "# becomes '3.html' \n",
        "import os\n",
        "\n",
        "\n",
        "#(did,text)\n",
        "input2 = input.map(lambda x: (int(os.path.basename(x[0]).split(\".\")[0]), x[1]))\n",
        "\n",
        "print(input2.take(1))"
      ],
      "execution_count": 7,
      "outputs": [
        {
          "output_type": "stream",
          "text": [
            "[(12959, \"<H2> 3-APR-1987 11:55:12.42</H2>\\r\\n<H2>POLYSAR IN JOINT VENTURE ON FINLAND LATEX PLANT</H2>\\r\\nPolysar Ltd, wholly owned by\\nCanada Development Corp, said it agreed to form a joint\\nventure with Raision Tehtaat, of Finland, to build a synthetic\\nrubber latex plant in southern Finland.\\n    Project cost and plant capacity were not disclosed.\\n    The joint venture, to be 51 pct owned by Raision Tehtaat\\nand 49 pct by Polysar, will build a plant at Anjalankoski, east\\nof Helsinki, to produce carboxylated styrene-butadiene latex.\\n    The plant's production will be used by Finland's paper\\nindustry for making coated paper and paper board products.\\n \\n \")]\n",
            "CPU times: user 40.4 ms, sys: 7.38 ms, total: 47.8 ms\n",
            "Wall time: 3min 3s\n"
          ],
          "name": "stdout"
        }
      ]
    },
    {
      "cell_type": "code",
      "metadata": {
        "id": "AdFPY9uqgq1P",
        "colab_type": "code",
        "outputId": "fa301a2d-e1b1-413b-a406-10c39c7fa08b",
        "colab": {
          "base_uri": "https://localhost:8080/",
          "height": 87
        }
      },
      "source": [
        "%%time\n",
        "\n",
        "# Doc to wordlist function\n",
        "# The output will be a list of tuples such as \n",
        "# (\"apple\", (3,10,10/20)), \n",
        "# where 3 is docid, \n",
        "# 10 is frequency of \"apple\" in this doc, \n",
        "# 20 is maxf in in this doc.\n",
        "\n",
        "from bs4 import BeautifulSoup\n",
        "from collections import Counter\n",
        "\n",
        "import string\n",
        "\n",
        "from nltk.corpus import stopwords\n",
        "stop_words = set(stopwords.words('english'))\n",
        "\n",
        "from nltk.stem import PorterStemmer\n",
        "ps = PorterStemmer()\n",
        "\n",
        "from nltk.stem import WordNetLemmatizer\n",
        "lem = WordNetLemmatizer()\n",
        "\n",
        "# for a given doc return a list of tuples of the form (w, (docid, freq, freq/maxfreq))\n",
        "def dw(docid, htmltext):\n",
        "  cleantext = BeautifulSoup(htmltext).get_text()\n",
        " \n",
        "#  1.to_lower_case\n",
        "\n",
        "  cleantext = cleantext.lower()\n",
        "\n",
        "# 2.filtering noise from data (punctuations + digits + alphanumerics)\n",
        "\n",
        "  # noise = string.punctuation+string.digits\n",
        "  noise = '!\"#$%&\\()*+,-:;<=>?@[\\\\]^_`{|}~'+string.digits\n",
        "  translation = str.maketrans(string.ascii_letters, string.ascii_letters, noise)\n",
        "  cleantext = cleantext.translate(translation)  \n",
        "\n",
        "  trans1 = str.maketrans('\\n\\r\\t\\'/.','      ')\n",
        "  cleantext = cleantext.translate(trans1)\n",
        "\n",
        "# 3. stop words \n",
        "  cleantext_sw = [word for word in cleantext.split(' ') if word not in stop_words]\n",
        "  cleantext = ''\n",
        "\n",
        "\n",
        "# 4.stemming/lemmatization\n",
        "\n",
        "  for word in cleantext_sw:\n",
        "  #  temp = ps.stem(word)\n",
        "   temp = lem.lemmatize(word)\n",
        "  #  temp = ps.stem(temp)\n",
        "   cleantext = cleantext+temp+' '\n",
        "  \n",
        "# 5. list of distinct words\n",
        "\n",
        "  cleantext_distinct = list(dict.fromkeys(cleantext.split(' ')))\n",
        "  cleantext_distinct.sort()\n",
        "\n",
        "  try:\n",
        "    cleantext_distinct_2 = [word for word in cleantext_distinct if len(word)>1]\n",
        "    # cleantext_distinct_2.remove('')\n",
        "  except:\n",
        "    print('no strings< length 2')\n",
        "\n",
        "# count of occurrences of distinct words in doc\n",
        "  count_list = []\n",
        "  list_tf = []\n",
        "  for word in cleantext_distinct_2:\n",
        "    count_list.append(cleantext.split(' ').count(word))\n",
        "\n",
        "  max_count_list = max(count_list)\n",
        "\n",
        "  for word in cleantext_distinct_2:\n",
        "    list_tf.append((word,(docid,cleantext.split(' ').count(word),(cleantext.split(' ').count(word)/(max_count_list)))))\n",
        "\n",
        "  #TODO\n",
        "  #returning just a dummy result\n",
        "  # return [(_,(_,_,cleantext_distinct_2))]\n",
        "  return list_tf\n",
        "\n",
        "word_docid_freq_tf = input2.flatMap(lambda x: dw(x[0],x[1]))\n",
        "\n",
        "\n",
        "# print(word_docid_freq_tf.take(1))\n",
        "print(word_docid_freq_tf.take(435))\n",
        "# print(word_docid_freq_tf.take(2)[0][0])\n",
        "# print(word_docid_freq_tf.take(2)[1][1])\n",
        "\n",
        "# print(word_docid_freq_tf.count())"
      ],
      "execution_count": 8,
      "outputs": [
        {
          "output_type": "stream",
          "text": [
            "[('agreed', (12959, 1, 0.2)), ('anjalankoski', (12959, 1, 0.2)), ('apr', (12959, 1, 0.2)), ('board', (12959, 1, 0.2)), ('build', (12959, 2, 0.4)), ('canada', (12959, 1, 0.2)), ('capacity', (12959, 1, 0.2)), ('carboxylated', (12959, 1, 0.2)), ('coated', (12959, 1, 0.2)), ('corp', (12959, 1, 0.2)), ('cost', (12959, 1, 0.2)), ('development', (12959, 1, 0.2)), ('disclosed', (12959, 1, 0.2)), ('east', (12959, 1, 0.2)), ('finland', (12959, 4, 0.8)), ('form', (12959, 1, 0.2)), ('helsinki', (12959, 1, 0.2)), ('industry', (12959, 1, 0.2)), ('joint', (12959, 3, 0.6)), ('latex', (12959, 3, 0.6)), ('ltd', (12959, 1, 0.2)), ('making', (12959, 1, 0.2)), ('owned', (12959, 2, 0.4)), ('paper', (12959, 3, 0.6)), ('pct', (12959, 2, 0.4)), ('plant', (12959, 5, 1.0)), ('polysar', (12959, 3, 0.6)), ('produce', (12959, 1, 0.2)), ('product', (12959, 1, 0.2)), ('production', (12959, 1, 0.2)), ('project', (12959, 1, 0.2)), ('raision', (12959, 2, 0.4)), ('rubber', (12959, 1, 0.2)), ('said', (12959, 1, 0.2)), ('southern', (12959, 1, 0.2)), ('styrenebutadiene', (12959, 1, 0.2)), ('synthetic', (12959, 1, 0.2)), ('tehtaat', (12959, 2, 0.4)), ('used', (12959, 1, 0.2)), ('venture', (12959, 3, 0.6)), ('wholly', (12959, 1, 0.2)), ('across', (9696, 1, 0.25)), ('agency', (9696, 1, 0.25)), ('anibal', (9696, 1, 0.25)), ('cavaco', (9696, 1, 0.25)), ('china', (9696, 4, 1.0)), ('colony', (9696, 1, 0.25)), ('december', (9696, 1, 0.25)), ('declaration', (9696, 1, 0.25)), ('economic', (9696, 1, 0.25)), ('estuary', (9696, 1, 0.25)), ('existing', (9696, 1, 0.25)), ('handed', (9696, 1, 0.25)), ('hong', (9696, 1, 0.25)), ('initial', (9696, 1, 0.25)), ('initialled', (9696, 1, 0.25)), ('joint', (9696, 1, 0.25)), ('kong', (9696, 1, 0.25)), ('lisbon', (9696, 1, 0.25)), ('located', (9696, 1, 0.25)), ('macao', (9696, 4, 1.0)), ('maintained', (9696, 1, 0.25)), ('mar', (9696, 1, 0.25)), ('minister', (9696, 1, 0.25)), ('new', (9696, 1, 0.25)), ('news', (9696, 1, 0.25)), ('official', (9696, 1, 0.25)), ('pact', (9696, 1, 0.25)), ('pearl', (9696, 1, 0.25)), ('peking', (9696, 1, 0.25)), ('people', (9696, 1, 0.25)), ('political', (9696, 1, 0.25)), ('population', (9696, 1, 0.25)), ('portugal', (9696, 2, 0.5)), ('portuguese', (9696, 1, 0.25)), ('prime', (9696, 1, 0.25)), ('promised', (9696, 1, 0.25)), ('reported', (9696, 1, 0.25)), ('river', (9696, 1, 0.25)), ('said', (9696, 1, 0.25)), ('silve', (9696, 1, 0.25)), ('social', (9696, 1, 0.25)), ('system', (9696, 1, 0.25)), ('today', (9696, 1, 0.25)), ('year', (9696, 1, 0.25)), ('yearold', (9696, 1, 0.25)), ('yesterday', (9696, 1, 0.25)), ('apr', (16400, 1, 0.125)), ('ct', (16400, 4, 0.5)), ('dec', (16400, 1, 0.125)), ('eight', (16400, 1, 0.125)), ('inc', (16400, 1, 0.125)), ('laser', (16400, 1, 0.125)), ('lazr', (16400, 1, 0.125)), ('loss', (16400, 8, 1.0)), ('mln', (16400, 4, 0.5)), ('net', (16400, 2, 0.25)), ('one', (16400, 1, 0.125)), ('photonics', (16400, 1, 0.125)), ('qtr', (16400, 1, 0.125)), ('rev', (16400, 2, 0.25)), ('shr', (16400, 2, 0.25)), ('th', (16400, 1, 0.125)), ('year', (16400, 1, 0.125)), ('able', (14357, 1, 0.125)), ('accord', (14357, 1, 0.125)), ('ahead', (14357, 3, 0.375)), ('aided', (14357, 1, 0.125)), ('anything', (14357, 1, 0.125)), ('apr', (14357, 1, 0.125)), ('bank', (14357, 4, 0.5)), ('beginning', (14357, 1, 0.125)), ('board', (14357, 1, 0.125)), ('brief', (14357, 1, 0.125)), ('buying', (14357, 1, 0.125)), ('canada', (14357, 1, 0.125)), ('central', (14357, 1, 0.125)), ('centred', (14357, 1, 0.125)), ('chairman', (14357, 1, 0.125)), ('close', (14357, 3, 0.375)), ('closed', (14357, 1, 0.125)), ('come', (14357, 1, 0.125)), ('comment', (14357, 1, 0.125)), ('conservative', (14357, 1, 0.125)), ('could', (14357, 2, 0.25)), ('counterproductive', (14357, 1, 0.125)), ('curb', (14357, 1, 0.125)), ('currency', (14357, 1, 0.125)), ('current', (14357, 1, 0.125)), ('dealer', (14357, 2, 0.25)), ('despite', (14357, 1, 0.125)), ('disagreement', (14357, 1, 0.125)), ('dlrs', (14357, 1, 0.125)), ('dollar', (14357, 8, 1.0)), ('doubted', (14357, 1, 0.125)), ('emerging', (14357, 1, 0.125)), ('ended', (14357, 2, 0.25)), ('ending', (14357, 1, 0.125)), ('england', (14357, 2, 0.25)), ('europe', (14357, 1, 0.125)), ('european', (14357, 1, 0.125)), ('expectation', (14357, 2, 0.25)), ('expected', (14357, 1, 0.125)), ('failed', (14357, 1, 0.125)), ('fall', (14357, 1, 0.125)), ('fear', (14357, 1, 0.125)), ('federal', (14357, 1, 0.125)), ('final', (14357, 2, 0.25)), ('finance', (14357, 1, 0.125)), ('financier', (14357, 1, 0.125)), ('find', (14357, 1, 0.125)), ('finding', (14357, 1, 0.125)), ('finish', (14357, 1, 0.125)), ('finished', (14357, 1, 0.125)), ('first', (14357, 1, 0.125)), ('five', (14357, 1, 0.125)), ('followthrough', (14357, 1, 0.125)), ('franc', (14357, 2, 0.25)), ('france', (14357, 1, 0.125)), ('french', (14357, 1, 0.125)), ('fresh', (14357, 1, 0.125)), ('general', (14357, 1, 0.125)), ('germany', (14357, 1, 0.125)), ('give', (14357, 1, 0.125)), ('given', (14357, 1, 0.125)), ('group', (14357, 2, 0.25)), ('helped', (14357, 1, 0.125)), ('hope', (14357, 1, 0.125)), ('however', (14357, 2, 0.25)), ('impact', (14357, 1, 0.125)), ('index', (14357, 1, 0.125)), ('informal', (14357, 1, 0.125)), ('instability', (14357, 1, 0.125)), ('interest', (14357, 1, 0.125)), ('intervention', (14357, 1, 0.125)), ('italy', (14357, 1, 0.125)), ('japan', (14357, 2, 0.25)), ('japanese', (14357, 1, 0.125)), ('key', (14357, 1, 0.125)), ('largely', (14357, 1, 0.125)), ('lasting', (14357, 2, 0.25)), ('leading', (14357, 1, 0.125)), ('level', (14357, 1, 0.125)), ('limited', (14357, 1, 0.125)), ('little', (14357, 2, 0.25)), ('low', (14357, 2, 0.25)), ('mark', (14357, 2, 0.25)), ('market', (14357, 4, 0.5)), ('meanwhile', (14357, 2, 0.25)), ('meeting', (14357, 3, 0.375)), ('merchant', (14357, 1, 0.125)), ('midafternoon', (14357, 1, 0.125)), ('minister', (14357, 1, 0.125)), ('much', (14357, 1, 0.125)), ('near', (14357, 1, 0.125)), ('needed', (14357, 1, 0.125)), ('negative', (14357, 1, 0.125)), ('news', (14357, 1, 0.125)), ('one', (14357, 1, 0.125)), ('open', (14357, 1, 0.125)), ('opening', (14357, 5, 0.625)), ('operator', (14357, 1, 0.125)), ('opinion', (14357, 1, 0.125)), ('outcome', (14357, 1, 0.125)), ('particularly', (14357, 1, 0.125)), ('party', (14357, 1, 0.125)), ('paul', (14357, 1, 0.125)), ('pct', (14357, 1, 0.125)), ('point', (14357, 1, 0.125)), ('poll', (14357, 1, 0.125)), ('position', (14357, 2, 0.25)), ('pound', (14357, 2, 0.25)), ('prepared', (14357, 1, 0.125)), ('previous', (14357, 2, 0.25)), ('problem', (14357, 1, 0.125)), ('push', (14357, 2, 0.25)), ('quiet', (14357, 1, 0.125)), ('reflecting', (14357, 1, 0.125)), ('reserve', (14357, 1, 0.125)), ('rest', (14357, 1, 0.125)), ('rise', (14357, 1, 0.125)), ('rumoured', (14357, 1, 0.125)), ('runup', (14357, 1, 0.125)), ('said', (14357, 8, 1.0)), ('scheduled', (14357, 1, 0.125)), ('seen', (14357, 1, 0.125)), ('sell', (14357, 1, 0.125)), ('sentiment', (14357, 1, 0.125)), ('series', (14357, 2, 0.25)), ('session', (14357, 1, 0.125)), ('seven', (14357, 1, 0.125)), ('sharp', (14357, 1, 0.125)), ('show', (14357, 1, 0.125)), ('sign', (14357, 1, 0.125)), ('sizeable', (14357, 1, 0.125)), ('sold', (14357, 1, 0.125)), ('solution', (14357, 1, 0.125)), ('squaring', (14357, 1, 0.125)), ('start', (14357, 2, 0.25)), ('starting', (14357, 1, 0.125)), ('statement', (14357, 1, 0.125)), ('steady', (14357, 2, 0.25)), ('sterling', (14357, 2, 0.25)), ('still', (14357, 2, 0.25)), ('strong', (14357, 1, 0.125)), ('support', (14357, 1, 0.125)), ('susceptible', (14357, 1, 0.125)), ('swiss', (14357, 1, 0.125)), ('talk', (14357, 4, 0.5)), ('today', (14357, 5, 0.625)), ('tomorrow', (14357, 1, 0.125)), ('tone', (14357, 1, 0.125)), ('toward', (14357, 1, 0.125)), ('trade', (14357, 1, 0.125)), ('trader', (14357, 5, 0.625)), ('unanimous', (14357, 1, 0.125)), ('unchanged', (14357, 1, 0.125)), ('underlying', (14357, 1, 0.125)), ('underpinned', (14357, 1, 0.125)), ('upward', (14357, 1, 0.125)), ('volcker', (14357, 1, 0.125)), ('washington', (14357, 3, 0.375)), ('weakness', (14357, 1, 0.125)), ('weighted', (14357, 1, 0.125)), ('west', (14357, 1, 0.125)), ('western', (14357, 1, 0.125)), ('would', (14357, 1, 0.125)), ('yen', (14357, 2, 0.25)), ('yesterday', (14357, 6, 0.75)), ('co', (5538, 1, 0.3333333333333333)), ('ct', (5538, 1, 0.3333333333333333)), ('dlr', (5538, 1, 0.3333333333333333)), ('dlrs', (5538, 1, 0.3333333333333333)), ('exploration', (5538, 1, 0.3333333333333333)), ('gas', (5538, 1, 0.3333333333333333)), ('loss', (5538, 3, 1.0)), ('ltd', (5538, 1, 0.3333333333333333)), ('mar', (5538, 1, 0.3333333333333333)), ('net', (5538, 2, 0.6666666666666666)), ('note', (5538, 1, 0.3333333333333333)), ('oil', (5538, 1, 0.3333333333333333)), ('onyx', (5538, 1, 0.3333333333333333)), ('petroleum', (5538, 1, 0.3333333333333333)), ('profit', (5538, 2, 0.6666666666666666)), ('property', (5538, 1, 0.3333333333333333)), ('rev', (5538, 1, 0.3333333333333333)), ('shr', (5538, 2, 0.6666666666666666)), ('value', (5538, 1, 0.3333333333333333)), ('writedown', (5538, 1, 0.3333333333333333)), ('year', (5538, 1, 0.3333333333333333)), ('august', (19697, 1, 0.2)), ('component', (19697, 1, 0.2)), ('concerning', (19697, 1, 0.2)), ('corp', (19697, 2, 0.4)), ('currently', (19697, 1, 0.2)), ('date', (19697, 3, 0.6)), ('electromechanical', (19697, 1, 0.2)), ('entitled', (19697, 1, 0.2)), ('expects', (19697, 1, 0.2)), ('following', (19697, 1, 0.2)), ('held', (19697, 1, 0.2)), ('hold', (19697, 1, 0.2)), ('holding', (19697, 2, 0.4)), ('july', (19697, 1, 0.2)), ('jun', (19697, 1, 0.2)), ('maker', (19697, 1, 0.2)), ('may', (19697, 1, 0.2)), ('meeting', (19697, 1, 0.2)), ('merger', (19697, 2, 0.4)), ('new', (19697, 2, 0.4)), ('november', (19697, 1, 0.2)), ('offer', (19697, 1, 0.2)), ('original', (19697, 1, 0.2)), ('pct', (19697, 1, 0.2)), ('product', (19697, 1, 0.2)), ('proposed', (19697, 1, 0.2)), ('record', (19697, 3, 0.6)), ('related', (19697, 1, 0.2)), ('said', (19697, 2, 0.4)), ('sb', (19697, 2, 0.4)), ('service', (19697, 1, 0.2)), ('set', (19697, 2, 0.4)), ('shareholder', (19697, 2, 0.4)), ('special', (19697, 1, 0.2)), ('tender', (19697, 1, 0.2)), ('vernitron', (19697, 5, 1.0)), ('vote', (19697, 1, 0.2)), ('vrn', (19697, 1, 0.2)), ('bag', (10682, 5, 1.0)), ('calendar', (10682, 1, 0.2)), ('co', (10682, 1, 0.2)), ('coffee', (10682, 2, 0.4)), ('compared', (10682, 2, 0.4)), ('corresponding', (10682, 1, 0.2)), ('cumulative', (10682, 1, 0.2)), ('ended', (10682, 2, 0.4)), ('george', (10682, 1, 0.2)), ('gordon', (10682, 1, 0.2)), ('green', (10682, 2, 0.4)), ('higher', (10682, 1, 0.2)), ('inc', (10682, 1, 0.2)), ('including', (10682, 1, 0.2)), ('kilo', (10682, 1, 0.2)), ('last', (10682, 2, 0.4)), ('mar', (10682, 1, 0.2)), ('march', (10682, 2, 0.4)), ('paton', (10682, 2, 0.4)), ('production', (10682, 1, 0.2)), ('report', (10682, 1, 0.2)), ('reported', (10682, 1, 0.2)), ('roasting', (10682, 3, 0.6)), ('said', (10682, 1, 0.2)), ('soluble', (10682, 1, 0.2)), ('time', (10682, 1, 0.2)), ('total', (10682, 1, 0.2)), ('used', (10682, 1, 0.2)), ('week', (10682, 3, 0.6)), ('year', (10682, 2, 0.4)), ('account', (10364, 1, 0.25)), ('adopted', (10364, 1, 0.25)), ('allows', (10364, 1, 0.25)), ('amount', (10364, 1, 0.25)), ('april', (10364, 1, 0.25)), ('aside', (10364, 1, 0.25)), ('bill', (10364, 2, 0.5)), ('billion', (10364, 2, 0.5)), ('budget', (10364, 2, 0.5)), ('buy', (10364, 1, 0.25)), ('covering', (10364, 1, 0.25)), ('day', (10364, 2, 0.5)), ('dealer', (10364, 1, 0.25)), ('dlr', (10364, 1, 0.25)), ('dollar', (10364, 2, 0.5)), ('exchange', (10364, 2, 0.5)), ('fall', (10364, 2, 0.5)), ('finance', (10364, 1, 0.25)), ('financing', (10364, 1, 0.25)), ('first', (10364, 1, 0.25)), ('foreign', (10364, 2, 0.5)), ('full', (10364, 1, 0.25)), ('fund', (10364, 3, 0.75)), ('government', (10364, 3, 0.75)), ('incorporated', (10364, 1, 0.25)), ('issue', (10364, 1, 0.25)), ('japan', (10364, 1, 0.25)), ('mar', (10364, 1, 0.25)), ('ministry', (10364, 1, 0.25)), ('pct', (10364, 1, 0.25)), ('prevent', (10364, 2, 0.5)), ('provisional', (10364, 1, 0.25)), ('said', (10364, 3, 0.75)), ('set', (10364, 1, 0.25)), ('source', (10364, 2, 0.5)), ('starting', (10364, 1, 0.25)), ('today', (10364, 1, 0.25)), ('used', (10364, 1, 0.25)), ('worth', (10364, 1, 0.25)), ('would', (10364, 1, 0.25)), ('year', (10364, 1, 0.25)), ('yen', (10364, 4, 1.0)), ('alleges', (6002, 1, 0.14285714285714285)), ('based', (6002, 1, 0.14285714285714285)), ('bentone', (6002, 1, 0.14285714285714285)), ('catalyst', (6002, 3, 0.42857142857142855)), ('chemical', (6002, 1, 0.14285714285714285)), ('circuit', (6002, 1, 0.14285714285714285)), ('complaint', (6002, 3, 0.42857142857142855)), ('confidential', (6002, 1, 0.14285714285714285)), ('county', (6002, 1, 0.14285714285714285)), ('court', (6002, 2, 0.2857142857142857)), ('district', (6002, 2, 0.2857142857142857)), ('ds', (6002, 1, 0.14285714285714285)), ('file', (6002, 1, 0.14285714285714285)), ('filed', (6002, 2, 0.2857142857142857)), ('inc', (6002, 3, 0.42857142857142855)), ('industry', (6002, 1, 0.14285714285714285)), ('information', (6002, 1, 0.14285714285714285)), ('infringement', (6002, 2, 0.2857142857142857)), ('infringes', (6002, 1, 0.14285714285714285)), ('jefferson', (6002, 1, 0.14285714285714285)), ('kentucky', (6002, 1, 0.14285714285714285)), ('ky', (6002, 2, 0.2857142857142857)), ('louisville', (6002, 1, 0.14285714285714285)), ('mar', (6002, 1, 0.14285714285714285)), ('misappropriation', (6002, 2, 0.2857142857142857)), ('nl', (6002, 7, 1.0)), ('patent', (6002, 4, 0.5714285714285714)), ('product', (6002, 2, 0.2857142857142857)), ('protecting', (6002, 1, 0.14285714285714285)), ('said', (6002, 3, 0.42857142857142855)), ('state', (6002, 1, 0.14285714285714285)), ('subsidiary', (6002, 1, 0.14285714285714285)), ('suit', (6002, 2, 0.2857142857142857)), ('thixogel', (6002, 1, 0.14285714285714285)), ('two', (6002, 1, 0.14285714285714285))]\n",
            "CPU times: user 70.3 ms, sys: 18.2 ms, total: 88.5 ms\n",
            "Wall time: 5.55 s\n"
          ],
          "name": "stdout"
        }
      ]
    },
    {
      "cell_type": "markdown",
      "metadata": {
        "id": "SW_XxF-VveLF",
        "colab_type": "text"
      },
      "source": [
        "Expected output (all expected results are on the small sample):\n",
        "\n",
        "<pre>\n",
        "[('feb', (1, 1, 0.07142857142857142)), ('bahia', (1, 5, 0.35714285714285715))]\n",
        "</pre>"
      ]
    },
    {
      "cell_type": "code",
      "metadata": {
        "id": "1ZiKzsibkj92",
        "colab_type": "code",
        "outputId": "e1ea2b06-990c-4750-80a6-bf469b4b5658",
        "colab": {
          "base_uri": "https://localhost:8080/",
          "height": 50
        }
      },
      "source": [
        "%%time\n",
        "# Now create an RDD as follows \n",
        "# (word, [(did1,freq1,tf1), (did2,freq2,tf2), ...])\n",
        "\n",
        "# # 1. converting rdd to list\n",
        "# rdd_to_list = word_docid_freq_tf.collect()\n",
        "\n",
        "\n",
        "# # 2. list of keys from rdd\n",
        "# list_keys = []\n",
        "# for el in rdd_to_list:\n",
        "#   list_keys.append(el[0])\n",
        "\n",
        "\n",
        "# # 3. list of distinct keys\n",
        "# list_keys_d = list(dict.fromkeys(list_keys))\n",
        "\n",
        "\n",
        "# list_to_rdd = [] \n",
        "\n",
        "# # 4. indices of distinct keys in list_keys\n",
        "\n",
        "# for el in list_keys_d:\n",
        "#   ind = [index for index, value in enumerate(list_keys) if value == el]\n",
        "#   sub_list = []\n",
        "\n",
        "#   for i in ind:\n",
        "#     sub_list.append(rdd_to_list[i][1])\n",
        "#   list_to_rdd.append((el,sub_list))\n",
        "\n",
        "\n",
        "word_postinglist_freq_tf =  word_docid_freq_tf.map(lambda x: (x[0],[x[1]])).reduceByKey(lambda x ,y: x+y)\n",
        "\n",
        "#TODO\n",
        "# creating a dummy RDD\n",
        "# word_postinglist_freq_tf = sc.parallelize([ ('test', [(1, 1, 0.5), (2, 1, 0.2)]) ])\n",
        "# word_postinglist_freq_tf = sc.parallelize(tmp)\n"
      ],
      "execution_count": 9,
      "outputs": [
        {
          "output_type": "stream",
          "text": [
            "CPU times: user 14.7 ms, sys: 2.72 ms, total: 17.4 ms\n",
            "Wall time: 52.5 ms\n"
          ],
          "name": "stdout"
        }
      ]
    },
    {
      "cell_type": "code",
      "metadata": {
        "id": "gtDZ4q-1oaq1",
        "colab_type": "code",
        "colab": {}
      },
      "source": [
        "# # print(word_postinglist_freq_tf.map(lambda x : (x[0], list(x[1]))).take(1))\n",
        "# print(word_postinglist_freq_tf.take(1))"
      ],
      "execution_count": 0,
      "outputs": []
    },
    {
      "cell_type": "markdown",
      "metadata": {
        "id": "3UhcJ4_j1IPu",
        "colab_type": "text"
      },
      "source": [
        "Expected output\n",
        "\n",
        "<pre>\n",
        "[('feb', [(1, 1, 0.07142857142857142), (2, 1, 0.2), (5, 1, 0.16666666666666666), (3, 1, 0.3333333333333333), (4, 1, 0.07142857142857142)]), ('bahia', [(1, 5, 0.35714285714285715)])]\n",
        "</pre>"
      ]
    },
    {
      "cell_type": "code",
      "metadata": {
        "id": "y_8KGpQvlLGp",
        "colab_type": "code",
        "outputId": "358963a4-522a-42c8-cc5c-ef143846f92e",
        "colab": {
          "base_uri": "https://localhost:8080/",
          "height": 50
        }
      },
      "source": [
        "%%time\n",
        "\n",
        "# (word, [(did,freq,tfidf), ...])\n",
        "# We easily obtain idf as 1/len(postinglist_tf)\n",
        "# idf = 1/len(postinglist_tf)\n",
        "\n",
        "rdd_list_tfidf = word_postinglist_freq_tf.collect()\n",
        "\n",
        "# print(rdd_list_tfidf)\n",
        "\n",
        "\n",
        "for pair in rdd_list_tfidf:\n",
        "  # pair[0] #word\n",
        "  # pair[1] #list of tuples of word\n",
        "  s_list = []\n",
        "  \n",
        "  for tup in pair[1]:\n",
        "    tf = tup[2] #tf of word in tuple\n",
        "    tf_idf = tf/len(pair[1])\n",
        "    s_list.append(tup[:2]+(tf_idf,))\n",
        "  rdd_list_tfidf[rdd_list_tfidf.index(pair)] = pair[:1]+(s_list,)\n",
        "\n",
        "l = []\n",
        "for el in rdd_list_tfidf:\n",
        "  temp_list = el[1]\n",
        "  sorted_list = sorted(temp_list, key=lambda x: x[0])\n",
        "  t = el[:1]+(sorted_list,)\n",
        "  l.append(t)\n",
        "\n",
        "\n",
        "\n",
        "#TODO\n",
        "\n",
        "# creating a dummy RDD\n",
        "# word_postinglist_freq_tfidf = sc.parallelize([('test', [(1,3,0.12), (2,5,0.876)])])\n",
        "word_postinglist_freq_tfidf = sc.parallelize(l)\n",
        "\n",
        "# print(word_postinglist_freq_tfidf.take(100))"
      ],
      "execution_count": 11,
      "outputs": [
        {
          "output_type": "stream",
          "text": [
            "CPU times: user 30.6 s, sys: 173 ms, total: 30.8 s\n",
            "Wall time: 4min 42s\n"
          ],
          "name": "stdout"
        }
      ]
    },
    {
      "cell_type": "markdown",
      "metadata": {
        "id": "pwXDgFxP2MMc",
        "colab_type": "text"
      },
      "source": [
        "Expected output\n",
        "\n",
        "<pre>\n",
        "[('feb', [(1, 1, 0.014285714285714285), (2, 1, 0.04), (5, 1, 0.03333333333333333), (3, 1, 0.06666666666666667), (4, 1, 0.014285714285714285)])]\n",
        "</pre>"
      ]
    },
    {
      "cell_type": "code",
      "metadata": {
        "id": "U8jahG9q2SVf",
        "colab_type": "code",
        "outputId": "f2a4e0e6-46ab-401a-b62b-714ba3de8099",
        "colab": {
          "base_uri": "https://localhost:8080/",
          "height": 120
        }
      },
      "source": [
        "%%time\n",
        "\n",
        "# Now, we would like to obtain the magnitude of each doc.\n",
        "# First, produce (did, (freq,tfidf)) for each word of doc did; \n",
        "# We do don't need the word itself, just its (freq,tfidf). \n",
        "# Then, do reduceByKey on these tuples and obtain maxfreq and \n",
        "# magnitude (squared) for each document. \n",
        "\n",
        "import math\n",
        "\n",
        "#TODO\n",
        "\n",
        "rdd_list_mag = word_postinglist_freq_tfidf.collect()\n",
        "\n",
        "mag_list_rdd = []\n",
        "\n",
        "for el in rdd_list_mag:\n",
        "  for e in el[1]:\n",
        "    did = e[0]\n",
        "    freq = e[1]\n",
        "    tf_idf = e[2]**2\n",
        "    x = (did,(freq,tf_idf))\n",
        "    mag_list_rdd.append(x)\n",
        "\n",
        "\n",
        "# RDD of (did,(freq,tfidf)) tuples\n",
        "# creating a dummy RDD\n",
        "# did_freq_tfidfsq_rdd = sc.parallelize([(1,(3,0.12)), (1,(5,0.13)), (2,(2,0.11)), (2,(6,0.14))])\n",
        "did_freq_tfidfsq_rdd = sc.parallelize(mag_list_rdd)\n",
        "\n",
        "print(did_freq_tfidfsq_rdd.take(500))\n",
        "\n",
        "\n",
        "temp =  did_freq_tfidfsq_rdd.reduceByKey(lambda x,y: (max(x[0],y[0]),(x[1]+y[1])))\n",
        "t = temp.collect()\n",
        "# Produce (did,(maxf,magnitudesq))\n",
        "# creating a dummy RDD\n",
        "# doc_maxf_mag = sc.parallelize([[(1, (5, 0.23)), (2, (6, 0.34))]])\n",
        "doc_maxf_mag = sc.parallelize(t)\n",
        "\n",
        "print(doc_maxf_mag.take(5))\n",
        "print(doc_maxf_mag.count())\n"
      ],
      "execution_count": 12,
      "outputs": [
        {
          "output_type": "stream",
          "text": [
            "[(12959, (1, 0.04000000000000001)), (6, (7, 1.2888522264614858e-08)), (2206, (2, 7.1123600415344045e-09)), (2239, (1, 4.939138917732226e-09)), (4305, (1, 1.1113062564897507e-08)), (10367, (1, 5.487932130813584e-10)), (10758, (1, 2.778265641224377e-09)), (11367, (2, 7.1123600415344045e-09)), (11773, (1, 2.2679719520198993e-10)), (11774, (1, 2.778265641224377e-09)), (11775, (1, 1.7780900103836011e-09)), (11776, (1, 3.0869618235826413e-10)), (11777, (1, 1.2347847294330565e-09)), (11778, (1, 1.7780900103836011e-09)), (11779, (1, 1.2347847294330565e-09)), (11780, (1, 1.7780900103836011e-09)), (11781, (1, 2.2679719520198993e-10)), (11782, (1, 1.7364160257652355e-10)), (11783, (1, 4.939138917732226e-09)), (11784, (1, 6.945664103060942e-10)), (11785, (1, 4.939138917732226e-09)), (11786, (1, 1.7780900103836011e-09)), (11787, (1, 3.6737396908752093e-10)), (11788, (1, 1.2347847294330565e-09)), (11789, (1, 1.7780900103836011e-09)), (11791, (1, 1.7780900103836011e-09)), (11792, (1, 2.778265641224377e-09)), (11793, (1, 2.778265641224377e-09)), (11794, (1, 1.2347847294330565e-09)), (11795, (1, 3.6737396908752093e-10)), (11796, (1, 2.778265641224377e-09)), (11797, (1, 2.2679719520198993e-10)), (11798, (1, 1.2347847294330565e-09)), (11799, (1, 4.939138917732226e-09)), (11800, (1, 2.778265641224377e-09)), (11801, (1, 9.071887808079597e-10)), (11802, (1, 2.778265641224377e-09)), (11803, (1, 1.2347847294330565e-09)), (11804, (1, 1.2347847294330565e-09)), (11805, (1, 6.945664103060942e-10)), (11806, (1, 2.778265641224377e-09)), (11807, (1, 2.778265641224377e-09)), (11808, (1, 4.939138917732226e-09)), (11809, (1, 4.939138917732226e-09)), (11810, (1, 1.2347847294330565e-09)), (11811, (1, 1.7780900103836011e-09)), (11812, (1, 4.939138917732226e-09)), (11813, (1, 3.6737396908752093e-10)), (11814, (1, 1.7780900103836011e-09)), (11815, (1, 2.778265641224377e-09)), (11816, (1, 5.487932130813584e-10)), (11817, (1, 4.445225025959003e-10)), (11818, (1, 1.2347847294330565e-09)), (11819, (1, 4.939138917732226e-09)), (11820, (1, 4.445225025959003e-10)), (11822, (1, 1.2347847294330565e-09)), (11823, (1, 7.717404558956603e-11)), (11824, (1, 2.630310666247931e-10)), (11826, (1, 1.7780900103836011e-09)), (11827, (1, 9.071887808079597e-10)), (11828, (1, 4.939138917732226e-09)), (11829, (1, 1.7780900103836011e-09)), (11830, (1, 1.538140147390658e-10)), (11831, (1, 6.945664103060942e-10)), (11832, (1, 1.1113062564897507e-08)), (11833, (1, 4.939138917732226e-09)), (11834, (1, 4.939138917732226e-09)), (11835, (1, 2.778265641224377e-09)), (11836, (1, 1.7780900103836011e-09)), (11837, (1, 2.778265641224377e-09)), (11838, (1, 1.7780900103836011e-09)), (11839, (1, 6.945664103060942e-10)), (11840, (1, 2.778265641224377e-09)), (11841, (1, 1.7780900103836011e-09)), (11842, (1, 1.1113062564897507e-08)), (11843, (1, 4.445225025959003e-10)), (11844, (1, 4.939138917732226e-09)), (11845, (1, 2.778265641224377e-09)), (11846, (1, 2.778265641224377e-09)), (11847, (1, 5.487932130813584e-10)), (11848, (1, 4.445225025959003e-10)), (11849, (1, 4.939138917732226e-09)), (11850, (1, 1.97565556709289e-10)), (11851, (1, 4.939138917732226e-09)), (11852, (1, 6.945664103060942e-10)), (11853, (1, 4.939138917732226e-09)), (11854, (1, 2.778265641224377e-09)), (11855, (1, 1.2347847294330565e-09)), (11857, (1, 2.778265641224377e-09)), (11858, (1, 4.939138917732226e-09)), (11859, (1, 2.2679719520198993e-10)), (11860, (1, 2.778265641224377e-09)), (11861, (1, 1.2347847294330565e-09)), (11862, (1, 9.071887808079597e-10)), (11863, (1, 3.0869618235826413e-10)), (11864, (1, 1.1113062564897507e-08)), (11865, (1, 1.7780900103836011e-09)), (11866, (1, 3.6737396908752093e-10)), (11867, (1, 1.2347847294330565e-09)), (11868, (1, 1.2347847294330565e-09)), (11869, (1, 2.778265641224377e-09)), (11870, (1, 4.939138917732226e-09)), (11872, (1, 2.778265641224377e-09)), (11873, (1, 1.2347847294330565e-09)), (11874, (1, 1.7780900103836011e-09)), (11875, (1, 1.1113062564897507e-08)), (11877, (1, 1.2347847294330565e-09)), (11878, (1, 1.2347847294330565e-09)), (11879, (1, 1.1113062564897507e-08)), (11880, (1, 2.778265641224377e-09)), (11881, (1, 2.778265641224377e-09)), (11882, (1, 3.6737396908752093e-10)), (11883, (1, 1.7780900103836011e-09)), (11884, (1, 5.487932130813584e-10)), (11885, (1, 1.2313642731188373e-10)), (11886, (1, 1.7780900103836011e-09)), (11887, (1, 6.945664103060942e-10)), (11888, (1, 1.7780900103836011e-09)), (11889, (1, 1.7780900103836011e-09)), (11890, (1, 4.939138917732226e-09)), (11891, (1, 6.945664103060942e-10)), (11892, (1, 3.6737396908752093e-10)), (11893, (1, 1.7780900103836011e-09)), (11894, (1, 9.071887808079597e-10)), (11895, (1, 1.7780900103836011e-09)), (11896, (1, 4.445225025959003e-10)), (11897, (1, 4.939138917732226e-09)), (11898, (1, 3.0869618235826413e-10)), (11899, (1, 4.939138917732226e-09)), (11900, (1, 4.939138917732226e-09)), (11901, (1, 2.778265641224377e-09)), (11902, (1, 4.939138917732226e-09)), (11904, (1, 2.778265641224377e-09)), (11906, (1, 4.939138917732226e-09)), (11907, (1, 4.939138917732226e-09)), (11908, (1, 1.1113062564897507e-08)), (11909, (1, 4.939138917732226e-09)), (11910, (1, 1.7780900103836011e-09)), (11911, (1, 2.778265641224377e-09)), (11912, (1, 1.7364160257652355e-10)), (11913, (1, 4.939138917732226e-09)), (11914, (1, 2.2679719520198993e-10)), (11915, (1, 4.939138917732226e-09)), (11916, (1, 9.071887808079597e-10)), (11917, (1, 4.939138917732226e-09)), (11918, (1, 1.2347847294330565e-09)), (11919, (1, 1.7780900103836011e-09)), (11920, (1, 2.778265641224377e-09)), (11921, (1, 1.7780900103836011e-09)), (11922, (1, 4.939138917732226e-09)), (11923, (1, 4.939138917732226e-09)), (11924, (1, 1.1113062564897507e-08)), (11925, (1, 2.778265641224377e-09)), (11926, (1, 2.778265641224377e-09)), (11927, (1, 2.778265641224377e-09)), (11928, (1, 2.778265641224377e-09)), (11929, (1, 4.445225025959003e-10)), (11930, (1, 1.1113062564897507e-08)), (11931, (1, 4.939138917732226e-09)), (11932, (1, 2.778265641224377e-09)), (11933, (1, 4.939138917732226e-09)), (11934, (1, 4.939138917732226e-09)), (11935, (1, 4.939138917732226e-09)), (11936, (1, 9.184349227188023e-11)), (11939, (1, 1.7780900103836011e-09)), (11940, (1, 1.1113062564897507e-08)), (11941, (1, 3.0869618235826413e-10)), (11942, (1, 2.778265641224377e-09)), (11943, (1, 1.2347847294330565e-09)), (11944, (1, 4.939138917732226e-09)), (11945, (1, 1.1113062564897507e-08)), (11946, (1, 4.939138917732226e-09)), (11948, (1, 9.071887808079597e-10)), (11949, (1, 1.7780900103836011e-09)), (11950, (1, 2.630310666247931e-10)), (11951, (1, 4.939138917732226e-09)), (11952, (1, 4.939138917732226e-09)), (11953, (1, 1.7780900103836011e-09)), (11954, (1, 2.778265641224377e-09)), (11955, (1, 1.7780900103836011e-09)), (11956, (1, 5.487932130813584e-10)), (11957, (1, 1.2313642731188373e-10)), (11958, (1, 4.939138917732226e-09)), (11959, (1, 4.939138917732226e-09)), (11960, (1, 4.939138917732226e-09)), (11961, (1, 9.071887808079597e-10)), (11962, (1, 1.7780900103836011e-09)), (11963, (1, 1.1113062564897507e-08)), (11964, (1, 5.487932130813584e-10)), (11965, (1, 1.7780900103836011e-09)), (11966, (1, 5.487932130813584e-10)), (11967, (1, 1.2347847294330565e-09)), (11968, (1, 1.7780900103836011e-09)), (11969, (1, 1.7780900103836011e-09)), (11970, (1, 2.778265641224377e-09)), (11971, (1, 1.1113062564897507e-08)), (11972, (1, 4.939138917732226e-09)), (11973, (1, 2.778265641224377e-09)), (11974, (1, 4.939138917732226e-09)), (11975, (1, 1.2347847294330565e-09)), (11976, (1, 2.778265641224377e-09)), (11977, (1, 1.1113062564897507e-08)), (11978, (1, 1.7780900103836011e-09)), (11979, (1, 4.939138917732226e-09)), (11980, (1, 2.778265641224377e-09)), (11981, (1, 1.7780900103836011e-09)), (11982, (1, 2.778265641224377e-09)), (11983, (1, 1.7780900103836011e-09)), (11984, (1, 1.2347847294330565e-09)), (11985, (1, 1.2347847294330565e-09)), (11986, (1, 1.538140147390658e-10)), (11987, (1, 1.371983032703396e-10)), (11988, (1, 2.778265641224377e-09)), (11989, (1, 1.1113062564897507e-08)), (11990, (1, 1.7780900103836011e-09)), (11991, (1, 4.939138917732226e-09)), (11992, (1, 2.778265641224377e-09)), (11993, (1, 1.1113062564897507e-08)), (11994, (1, 1.1113062564897507e-08)), (11995, (1, 2.778265641224377e-09)), (11996, (1, 4.939138917732226e-09)), (11997, (1, 1.7780900103836011e-09)), (11998, (1, 1.7780900103836011e-09)), (11999, (1, 4.939138917732226e-09)), (12000, (1, 2.778265641224377e-09)), (12001, (1, 1.1113062564897507e-08)), (12002, (1, 2.2679719520198993e-10)), (12003, (1, 2.778265641224377e-09)), (12004, (1, 1.1113062564897507e-08)), (12005, (1, 1.1113062564897507e-08)), (12006, (1, 2.778265641224377e-09)), (12007, (1, 4.939138917732226e-09)), (12009, (1, 4.939138917732226e-09)), (12010, (1, 2.778265641224377e-09)), (12011, (1, 8.403071882720233e-11)), (12013, (1, 2.630310666247931e-10)), (12014, (1, 1.1113062564897507e-08)), (12015, (1, 2.778265641224377e-09)), (12016, (1, 4.445225025959003e-10)), (12017, (1, 1.2347847294330565e-09)), (12020, (1, 1.7780900103836011e-09)), (12021, (1, 1.2347847294330565e-09)), (12022, (1, 2.778265641224377e-09)), (12023, (1, 2.778265641224377e-09)), (12024, (1, 1.1113062564897507e-08)), (12025, (1, 1.97565556709289e-10)), (12026, (1, 1.538140147390658e-10)), (12027, (1, 4.939138917732226e-09)), (12028, (1, 4.939138917732226e-09)), (12029, (1, 2.778265641224377e-09)), (12030, (1, 2.778265641224377e-09)), (12031, (1, 4.445225025959003e-10)), (12033, (1, 9.071887808079597e-10)), (12034, (1, 1.2347847294330565e-09)), (12035, (1, 1.7780900103836011e-09)), (12036, (1, 1.1113062564897507e-08)), (12038, (1, 1.2347847294330565e-09)), (12039, (1, 1.2347847294330565e-09)), (12040, (1, 6.945664103060942e-10)), (12041, (1, 1.2347847294330565e-09)), (12042, (1, 2.778265641224377e-09)), (12043, (1, 1.1113062564897507e-08)), (12044, (1, 4.445225025959003e-10)), (12045, (1, 1.1113062564897507e-08)), (12046, (1, 1.7780900103836011e-09)), (12047, (1, 9.071887808079597e-10)), (12048, (1, 4.939138917732226e-09)), (12049, (1, 1.7780900103836011e-09)), (12050, (1, 9.071887808079597e-10)), (12051, (1, 2.778265641224377e-09)), (12052, (1, 1.7780900103836011e-09)), (12053, (1, 1.2347847294330565e-09)), (12054, (1, 1.7780900103836011e-09)), (12055, (1, 2.778265641224377e-09)), (12056, (1, 2.778265641224377e-09)), (12057, (1, 2.778265641224377e-09)), (12059, (1, 1.7780900103836011e-09)), (12060, (1, 4.939138917732226e-09)), (12061, (1, 2.778265641224377e-09)), (12062, (1, 1.2347847294330565e-09)), (12063, (1, 1.1113062564897507e-08)), (12064, (1, 1.1113062564897507e-08)), (12066, (1, 9.071887808079597e-10)), (12067, (1, 2.778265641224377e-09)), (12068, (1, 1.2347847294330565e-09)), (12069, (1, 2.778265641224377e-09)), (12070, (1, 4.445225025959003e-10)), (12072, (1, 9.071887808079597e-10)), (12073, (1, 1.7780900103836011e-09)), (12074, (1, 2.778265641224377e-09)), (12075, (1, 2.778265641224377e-09)), (12076, (1, 1.1113062564897507e-08)), (12077, (1, 5.487932130813584e-10)), (12078, (1, 1.2347847294330565e-09)), (12079, (1, 1.7780900103836011e-09)), (12080, (1, 5.487932130813584e-10)), (12081, (1, 1.2347847294330565e-09)), (12082, (1, 1.2347847294330565e-09)), (12083, (1, 1.2347847294330565e-09)), (12084, (1, 2.2679719520198993e-10)), (12085, (1, 2.778265641224377e-09)), (12086, (1, 4.939138917732226e-09)), (12087, (1, 2.778265641224377e-09)), (12088, (1, 1.7780900103836011e-09)), (12089, (1, 2.778265641224377e-09)), (12090, (1, 1.7780900103836011e-09)), (12091, (1, 1.7780900103836011e-09)), (12092, (1, 1.7780900103836011e-09)), (12093, (1, 5.487932130813584e-10)), (12094, (1, 4.939138917732226e-09)), (12095, (1, 4.939138917732226e-09)), (12097, (1, 1.7780900103836011e-09)), (12098, (1, 2.778265641224377e-09)), (12099, (1, 2.778265641224377e-09)), (12100, (1, 2.778265641224377e-09)), (12101, (1, 4.939138917732226e-09)), (12102, (1, 4.939138917732226e-09)), (12103, (1, 4.939138917732226e-09)), (12104, (1, 4.939138917732226e-09)), (12105, (1, 4.939138917732226e-09)), (12106, (1, 2.778265641224377e-09)), (12107, (1, 2.778265641224377e-09)), (12108, (1, 1.7780900103836011e-09)), (12109, (1, 1.7780900103836011e-09)), (12110, (1, 1.7780900103836011e-09)), (12111, (1, 2.778265641224377e-09)), (12112, (1, 1.1113062564897507e-08)), (12113, (1, 1.7780900103836011e-09)), (12114, (1, 4.939138917732226e-09)), (12115, (1, 6.945664103060942e-10)), (12116, (1, 1.2347847294330565e-09)), (12117, (1, 2.778265641224377e-09)), (12118, (1, 1.2347847294330565e-09)), (12119, (1, 1.1113062564897507e-08)), (12120, (1, 1.7780900103836011e-09)), (12121, (1, 5.487932130813584e-10)), (12122, (1, 1.2347847294330565e-09)), (12123, (1, 2.778265641224377e-09)), (12125, (1, 2.778265641224377e-09)), (12126, (1, 4.939138917732226e-09)), (12127, (1, 1.2347847294330565e-09)), (12128, (1, 1.1113062564897507e-08)), (12129, (1, 4.939138917732226e-09)), (12130, (1, 4.939138917732226e-09)), (12131, (1, 2.778265641224377e-09)), (12132, (1, 9.071887808079597e-10)), (12133, (1, 4.939138917732226e-09)), (12134, (1, 1.7780900103836011e-09)), (12135, (1, 2.778265641224377e-09)), (12136, (1, 1.538140147390658e-10)), (12137, (1, 2.778265641224377e-09)), (12138, (1, 6.945664103060942e-10)), (12141, (1, 2.778265641224377e-09)), (12142, (1, 1.2347847294330565e-09)), (12143, (1, 3.0869618235826413e-10)), (12144, (1, 2.778265641224377e-09)), (12145, (1, 1.2347847294330565e-09)), (12146, (1, 2.2679719520198993e-10)), (12147, (1, 1.7780900103836011e-09)), (12148, (1, 1.2347847294330565e-09)), (12149, (1, 5.487932130813584e-10)), (12150, (1, 4.939138917732226e-09)), (12151, (1, 4.939138917732226e-09)), (12152, (1, 2.778265641224377e-09)), (12153, (1, 4.939138917732226e-09)), (12154, (1, 5.487932130813584e-10)), (12155, (1, 1.1113062564897507e-08)), (12156, (1, 4.445225025959003e-10)), (12157, (1, 4.939138917732226e-09)), (12158, (1, 2.2679719520198993e-10)), (12159, (1, 2.778265641224377e-09)), (12160, (1, 1.371983032703396e-10)), (12161, (1, 6.945664103060942e-10)), (12162, (1, 1.7780900103836011e-09)), (12163, (1, 1.1113062564897507e-08)), (12164, (1, 1.7780900103836011e-09)), (12165, (1, 1.7780900103836011e-09)), (12166, (1, 4.445225025959003e-10)), (12167, (1, 4.939138917732226e-09)), (12168, (1, 4.939138917732226e-09)), (12169, (1, 4.939138917732226e-09)), (12170, (1, 1.1113062564897507e-08)), (12171, (1, 4.939138917732226e-09)), (12172, (1, 1.1113062564897507e-08)), (12173, (1, 1.2347847294330565e-09)), (12174, (1, 6.945664103060942e-10)), (12175, (1, 2.778265641224377e-09)), (12176, (1, 1.2347847294330565e-09)), (12178, (1, 1.7780900103836011e-09)), (12179, (1, 2.778265641224377e-09)), (12180, (1, 2.2679719520198993e-10)), (12181, (1, 5.487932130813584e-10)), (12182, (1, 1.7780900103836011e-09)), (12183, (1, 4.939138917732226e-09)), (12184, (1, 1.1113062564897507e-08)), (12185, (1, 1.1113062564897507e-08)), (12186, (1, 2.778265641224377e-09)), (12187, (1, 2.778265641224377e-09)), (12188, (1, 4.445225025959003e-10)), (12189, (1, 2.778265641224377e-09)), (12190, (1, 1.2347847294330565e-09)), (12191, (1, 4.939138917732226e-09)), (12192, (1, 2.778265641224377e-09)), (12193, (1, 9.071887808079597e-10)), (12194, (1, 1.7780900103836011e-09)), (12195, (1, 2.2679719520198993e-10)), (12196, (1, 9.071887808079597e-10)), (12197, (1, 5.487932130813584e-10)), (12198, (1, 1.7780900103836011e-09)), (12199, (1, 2.778265641224377e-09)), (12200, (1, 1.1113062564897507e-08)), (12201, (1, 1.7780900103836011e-09)), (12202, (1, 4.939138917732226e-09)), (12203, (1, 3.6737396908752093e-10)), (12204, (1, 1.1113062564897507e-08)), (12205, (1, 2.778265641224377e-09)), (12206, (1, 2.778265641224377e-09)), (12207, (1, 4.939138917732226e-09)), (12208, (1, 4.445225025959003e-10)), (12209, (1, 1.371983032703396e-10)), (12210, (1, 4.939138917732226e-09)), (12211, (1, 1.1113062564897507e-08)), (12212, (1, 2.778265641224377e-09)), (12213, (1, 4.939138917732226e-09)), (12214, (1, 1.7780900103836011e-09)), (12215, (1, 4.939138917732226e-09)), (12216, (1, 2.778265641224377e-09)), (12217, (1, 1.1113062564897507e-08)), (12218, (1, 1.1113062564897507e-08)), (12219, (1, 1.7780900103836011e-09)), (12220, (1, 4.939138917732226e-09)), (12221, (1, 2.778265641224377e-09)), (12222, (1, 1.1113062564897507e-08)), (12223, (1, 4.939138917732226e-09)), (12224, (1, 3.6737396908752093e-10)), (12225, (1, 2.778265641224377e-09)), (12226, (1, 2.778265641224377e-09)), (12227, (1, 1.1113062564897507e-08)), (12228, (1, 6.945664103060942e-10)), (12229, (1, 1.1113062564897507e-08)), (12230, (1, 4.939138917732226e-09)), (12231, (1, 1.1113062564897507e-08)), (12232, (1, 4.939138917732226e-09)), (12233, (1, 9.071887808079597e-10)), (12235, (1, 1.1113062564897507e-08)), (12236, (1, 2.778265641224377e-09)), (12237, (1, 1.7780900103836011e-09)), (12238, (1, 2.778265641224377e-09)), (12239, (1, 5.487932130813584e-10)), (12240, (1, 1.2347847294330565e-09)), (12241, (1, 2.778265641224377e-09)), (12242, (1, 1.1113062564897507e-08)), (12243, (1, 1.7780900103836011e-09)), (12244, (1, 2.778265641224377e-09)), (12245, (1, 2.778265641224377e-09)), (12246, (1, 1.1113062564897507e-08)), (12247, (1, 9.071887808079597e-10)), (12248, (1, 1.7780900103836011e-09)), (12249, (1, 4.445225025959003e-10)), (12250, (1, 1.2347847294330565e-09)), (12252, (1, 1.2347847294330565e-09)), (12254, (1, 1.2347847294330565e-09)), (12255, (1, 5.487932130813584e-10)), (12256, (1, 4.939138917732226e-09)), (12257, (1, 4.939138917732226e-09)), (12258, (1, 5.487932130813584e-10)), (12259, (1, 1.7780900103836011e-09)), (12260, (1, 1.1113062564897507e-08)), (12261, (1, 9.071887808079597e-10)), (12262, (1, 6.945664103060942e-10)), (12264, (1, 1.7780900103836011e-09)), (12265, (1, 2.778265641224377e-09)), (12266, (1, 6.945664103060942e-10)), (12268, (1, 2.778265641224377e-09)), (12269, (1, 4.939138917732226e-09)), (12270, (1, 4.939138917732226e-09)), (12271, (1, 4.939138917732226e-09)), (12272, (1, 2.778265641224377e-09)), (12273, (1, 9.071887808079597e-10)), (12274, (1, 1.1113062564897507e-08)), (12275, (1, 2.778265641224377e-09)), (12276, (1, 1.7780900103836011e-09)), (12277, (1, 1.1113062564897507e-10)), (12278, (1, 1.7780900103836011e-09)), (12279, (1, 1.371983032703396e-10)), (12281, (1, 1.2347847294330565e-09)), (12282, (1, 2.778265641224377e-09)), (12284, (1, 9.071887808079597e-10)), (12286, (1, 3.6737396908752093e-10)), (12287, (1, 4.939138917732226e-09)), (12288, (1, 1.1113062564897507e-08)), (12289, (1, 2.778265641224377e-09)), (12290, (1, 4.939138917732226e-09)), (12291, (1, 1.1113062564897507e-08)), (12292, (1, 4.445225025959003e-10)), (12294, (1, 2.778265641224377e-09)), (12295, (1, 1.1113062564897507e-08)), (12296, (1, 6.945664103060942e-10)), (12297, (1, 1.1113062564897507e-08)), (12298, (1, 4.939138917732226e-09))]\n",
            "[(6, (13, 0.01798154113965737)), (2206, (5, 0.04024900366924768)), (10758, (4, 0.002466342786161299)), (11774, (4, 0.0002555244853909414)), (11776, (12, 0.03825746612795345))]\n",
            "19026\n",
            "CPU times: user 1.46 s, sys: 377 ms, total: 1.84 s\n",
            "Wall time: 4.49 s\n"
          ],
          "name": "stdout"
        }
      ]
    },
    {
      "cell_type": "markdown",
      "metadata": {
        "id": "cnGnORtV8VhX",
        "colab_type": "text"
      },
      "source": [
        "Excpected result\n",
        "\n",
        "<pre>\n",
        "[(1, (1, 0.0002040816326530612)), (2, (1, 0.0016))]\n",
        "[(2, (5, 3.894100000000001)), (4, (14, 2.94553429705215))]\n",
        "</pre>"
      ]
    },
    {
      "cell_type": "code",
      "metadata": {
        "id": "zBByinGhlu7-",
        "colab_type": "code",
        "colab": {}
      },
      "source": [
        "!rm -rf inv_idx\n",
        "word_postinglist_freq_tfidf.saveAsTextFile(\"inv_idx\");"
      ],
      "execution_count": 0,
      "outputs": []
    },
    {
      "cell_type": "code",
      "metadata": {
        "id": "szlsKC-RmWvd",
        "colab_type": "code",
        "colab": {}
      },
      "source": [
        "!rm -rf doc_mag\n",
        "doc_maxf_mag.saveAsTextFile(\"doc_mag\");"
      ],
      "execution_count": 0,
      "outputs": []
    },
    {
      "cell_type": "code",
      "metadata": {
        "id": "vNplByM4fsvF",
        "colab_type": "code",
        "outputId": "ac9eb49b-44c7-431e-f56e-443d6fe21cba",
        "colab": {
          "base_uri": "https://localhost:8080/",
          "height": 300
        }
      },
      "source": [
        "!ls -lrt inv_idx\n",
        "!head inv_idx/part-00001\n",
        "!wc -l inv_idx/part-00000\n",
        "!wc -l inv_idx/part-00001\n",
        "!cat inv_idx/part-00000 inv_idx/part-00001 > /content/drive/My\\ Drive/inv_idx.txt\n",
        "!wc -l /content/drive/My\\ Drive/inv_idx.txt"
      ],
      "execution_count": 15,
      "outputs": [
        {
          "output_type": "stream",
          "text": [
            "total 36192\n",
            "-rw-r--r-- 1 root root 16857212 Apr  3 05:14 part-00001\n",
            "-rw-r--r-- 1 root root 20198778 Apr  3 05:14 part-00000\n",
            "-rw-r--r-- 1 root root        0 Apr  3 05:14 _SUCCESS\n",
            "('structurally', [(18422, 1, 0.09090909090909091)])\n",
            "('cainsloan', [(16332, 3, 0.21428571428571427)])\n",
            "('terrific', [(16332, 1, 0.07142857142857142)])\n",
            "('compris', [(11311, 4, 0.8)])\n",
            "('singed', [(11311, 1, 0.2)])\n",
            "('florestais', [(11854, 1, 0.25)])\n",
            "('portobased', [(11854, 1, 0.25)])\n",
            "('siaf', [(11854, 2, 0.5)])\n",
            "('cfsgw', [(2331, 1, 0.125)])\n",
            "('copelco', [(2331, 3, 0.375)])\n",
            "21504 inv_idx/part-00000\n",
            "22032 inv_idx/part-00001\n",
            "43536 /content/drive/My Drive/inv_idx.txt\n"
          ],
          "name": "stdout"
        }
      ]
    },
    {
      "cell_type": "code",
      "metadata": {
        "id": "Islv0-ONjyF1",
        "colab_type": "code",
        "outputId": "b840848f-df40-422e-b048-86b0a2800246",
        "colab": {
          "base_uri": "https://localhost:8080/",
          "height": 300
        }
      },
      "source": [
        "!ls -lrt doc_mag\n",
        "!head doc_mag/part-00000\n",
        "!wc -l doc_mag/part-00000\n",
        "!wc -l doc_mag/part-00001\n",
        "!cat doc_mag/part-00000 doc_mag/part-00001 > /content/drive/My\\ Drive/doc_mag.txt\n",
        "!wc -l /content/drive/My\\ Drive/doc_mag.txt"
      ],
      "execution_count": 16,
      "outputs": [
        {
          "output_type": "stream",
          "text": [
            "total 636\n",
            "-rw-r--r-- 1 root root 333803 Apr  3 05:14 part-00001\n",
            "-rw-r--r-- 1 root root 313217 Apr  3 05:14 part-00000\n",
            "-rw-r--r-- 1 root root      0 Apr  3 05:14 _SUCCESS\n",
            "(6, (13, 0.01798154113965737))\n",
            "(2206, (5, 0.04024900366924768))\n",
            "(10758, (4, 0.002466342786161299))\n",
            "(11774, (4, 0.0002555244853909414))\n",
            "(11776, (12, 0.03825746612795345))\n",
            "(11778, (5, 0.05386814819153642))\n",
            "(11780, (5, 0.24170615040358373))\n",
            "(11782, (16, 0.012423480182132962))\n",
            "(11784, (8, 0.006635539213534009))\n",
            "(11786, (5, 0.13027503165110568))\n",
            "9216 doc_mag/part-00000\n",
            "9810 doc_mag/part-00001\n",
            "19026 /content/drive/My Drive/doc_mag.txt\n"
          ],
          "name": "stdout"
        }
      ]
    },
    {
      "cell_type": "code",
      "metadata": {
        "id": "OApJyOY_EKXh",
        "colab_type": "code",
        "colab": {}
      },
      "source": [
        ""
      ],
      "execution_count": 0,
      "outputs": []
    }
  ]
}