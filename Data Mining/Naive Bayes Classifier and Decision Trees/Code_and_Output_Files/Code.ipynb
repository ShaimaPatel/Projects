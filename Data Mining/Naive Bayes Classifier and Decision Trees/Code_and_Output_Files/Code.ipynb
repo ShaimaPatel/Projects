{
 "cells": [
  {
   "cell_type": "code",
   "execution_count": 1,
   "metadata": {},
   "outputs": [],
   "source": [
    "trainlabels = open('trainlabels.txt')"
   ]
  },
  {
   "cell_type": "code",
   "execution_count": 2,
   "metadata": {},
   "outputs": [],
   "source": [
    "lines_label = trainlabels.readlines()"
   ]
  },
  {
   "cell_type": "code",
   "execution_count": 3,
   "metadata": {},
   "outputs": [],
   "source": [
    "cls_list_list = []\n",
    "for x in lines_label :\n",
    "    cls_list_list.append(x.split())"
   ]
  },
  {
   "cell_type": "code",
   "execution_count": 4,
   "metadata": {},
   "outputs": [],
   "source": [
    "cls_flat_list = []\n",
    "for element in cls_list_list :\n",
    "    for sublist in element : \n",
    "        cls_flat_list.append(sublist)"
   ]
  },
  {
   "cell_type": "code",
   "execution_count": 5,
   "metadata": {},
   "outputs": [
    {
     "data": {
      "text/plain": [
       "['1', '0']"
      ]
     },
     "execution_count": 5,
     "metadata": {},
     "output_type": "execute_result"
    }
   ],
   "source": [
    "cls_unique = list(dict.fromkeys(cls_flat_list))\n",
    "cls_unique"
   ]
  },
  {
   "cell_type": "code",
   "execution_count": 6,
   "metadata": {},
   "outputs": [],
   "source": [
    "#counting number of 1's and 0's in trainlabel.txt\n",
    "count_cls = []\n",
    "for i in cls_unique:\n",
    "    count = 0\n",
    "    for element in cls_flat_list :\n",
    "        if element == i :\n",
    "            count += 1\n",
    "    count_cls.append(count)        "
   ]
  },
  {
   "cell_type": "code",
   "execution_count": 7,
   "metadata": {},
   "outputs": [],
   "source": [
    "#count od total docs\n",
    "n_docs = 0\n",
    "for element in count_cls:\n",
    "    n_docs += element "
   ]
  },
  {
   "cell_type": "code",
   "execution_count": 8,
   "metadata": {},
   "outputs": [],
   "source": [
    "#calculating prior probabilities for each class"
   ]
  },
  {
   "cell_type": "code",
   "execution_count": 9,
   "metadata": {},
   "outputs": [],
   "source": [
    "prior_prob = []\n",
    "for x in count_cls :\n",
    "    prior_prob.append(x/n_docs)"
   ]
  },
  {
   "cell_type": "code",
   "execution_count": 10,
   "metadata": {},
   "outputs": [],
   "source": [
    "# -------- prior probabilities of class-1 and class-0 -------------------------------"
   ]
  },
  {
   "cell_type": "code",
   "execution_count": 11,
   "metadata": {},
   "outputs": [],
   "source": [
    "traindata = open('traindata.txt')"
   ]
  },
  {
   "cell_type": "code",
   "execution_count": 12,
   "metadata": {},
   "outputs": [],
   "source": [
    "lines_data = traindata.readlines()"
   ]
  },
  {
   "cell_type": "code",
   "execution_count": 13,
   "metadata": {},
   "outputs": [],
   "source": [
    "data_list_list = []\n",
    "for x in lines_data :\n",
    "    data_list_list.append(x.split())\n"
   ]
  },
  {
   "cell_type": "code",
   "execution_count": 14,
   "metadata": {},
   "outputs": [],
   "source": [
    "data_flat_list = []\n",
    "for element in data_list_list :\n",
    "    for sublist in element :\n",
    "        data_flat_list.append(sublist)"
   ]
  },
  {
   "cell_type": "code",
   "execution_count": 15,
   "metadata": {},
   "outputs": [],
   "source": [
    "#vocabulary\n",
    "vocab = list(dict.fromkeys(data_flat_list))\n"
   ]
  },
  {
   "cell_type": "code",
   "execution_count": 16,
   "metadata": {},
   "outputs": [],
   "source": [
    "count_vocab_words = []\n",
    "for x in range(len(cls_unique)):\n",
    "    count_vocab_words.append([0 for i in range(len(vocab))])"
   ]
  },
  {
   "cell_type": "code",
   "execution_count": 17,
   "metadata": {},
   "outputs": [],
   "source": [
    "for c in range(len(cls_unique)):\n",
    "    for index in range(len(cls_flat_list)) :\n",
    "        if cls_flat_list[index] == cls_unique[c] :\n",
    "            words = lines_data[index].split()\n",
    "            for element in range(len(vocab)) :\n",
    "                count = 0 \n",
    "                for w in words:\n",
    "                    if vocab[element] == w :\n",
    "                        count += 1\n",
    "                count_vocab_words[c][element] += count            "
   ]
  },
  {
   "cell_type": "code",
   "execution_count": 18,
   "metadata": {},
   "outputs": [],
   "source": [
    "#total number of words in each class (including repeated words)"
   ]
  },
  {
   "cell_type": "code",
   "execution_count": 19,
   "metadata": {},
   "outputs": [],
   "source": [
    "count_words_class = []\n",
    "for index in range(len(cls_unique)) :\n",
    "    c = 0 \n",
    "    for l in range(len(count_vocab_words[index])) :\n",
    "        c += count_vocab_words[index][l]\n",
    "    count_words_class.append(c)"
   ]
  },
  {
   "cell_type": "code",
   "execution_count": 20,
   "metadata": {},
   "outputs": [],
   "source": [
    "cond_prob_vocab = [] \n",
    "for x in cls_unique:\n",
    "    cond_prob_vocab.append([0 for a in vocab])"
   ]
  },
  {
   "cell_type": "code",
   "execution_count": 21,
   "metadata": {},
   "outputs": [],
   "source": [
    "for c in range(len(cls_unique)):\n",
    "    for x in range(len(vocab)):\n",
    "        cond_prob_vocab[c][x] = (count_vocab_words[c][x] +1) / ( count_words_class[c] + len(vocab) )"
   ]
  },
  {
   "cell_type": "code",
   "execution_count": 22,
   "metadata": {},
   "outputs": [],
   "source": [
    "#Checking for accuracy with trainlabel.txt"
   ]
  },
  {
   "cell_type": "code",
   "execution_count": 23,
   "metadata": {},
   "outputs": [],
   "source": [
    "testdata = open('traindata.txt')\n",
    "lines_test_data = testdata.readlines()"
   ]
  },
  {
   "cell_type": "code",
   "execution_count": 24,
   "metadata": {},
   "outputs": [],
   "source": [
    "prob_doc = [0 for i in range(len(cls_unique))]\n",
    "prod = []\n",
    "test_labels = []\n",
    "sort_prob_doc = []\n",
    "num = 0\n",
    "\n",
    "for line in lines_test_data :\n",
    "    for c in range(len(cls_unique)):\n",
    "        prod.clear()\n",
    "        words_test = line.split()\n",
    "        for x in words_test:\n",
    "            for y in range(len(vocab)):\n",
    "                if x == vocab[y] :\n",
    "                    prod.append(cond_prob_vocab[c][y])\n",
    "        if len(prod) > 0 :\n",
    "            prob_doc[c] = prior_prob[c]\n",
    "            for num in prod :\n",
    "                prob_doc[c] *= num  \n",
    "    # greatest values of prob is the class which the doc belongs to\n",
    "    ind_gr_prob = [i for i, j in enumerate(prob_doc) if j == max(prob_doc)]\n",
    "    test_labels.append(cls_unique[ind_gr_prob[0]])"
   ]
  },
  {
   "cell_type": "code",
   "execution_count": 25,
   "metadata": {},
   "outputs": [
    {
     "data": {
      "text/plain": [
       "182"
      ]
     },
     "execution_count": 25,
     "metadata": {},
     "output_type": "execute_result"
    }
   ],
   "source": [
    "accurate = 0\n",
    "inaccurate = 0 \n",
    "for x in range(len(test_labels)):\n",
    "    if test_labels[x] == cls_flat_list[x]:\n",
    "        accurate += 1\n",
    "    else :\n",
    "        inaccurate +=1        \n",
    "\n",
    "open(\"results.txt\",\"w\").close()\n",
    "results = open(\"results.txt\",\"a\")\n",
    "s = \"----Verifying with Traindata.txt for accuracy------\\n\"\n",
    "s += \"count of accurate labels for traindata.txt : \"+str(accurate)+\"\\n\"\n",
    "s += \"count of inaccurate labels for traindata.txt : \"+str(inaccurate)+\"\\n\"\n",
    "s += \"Accuracy % : \"+str((accurate/(accurate+inaccurate)) * 100)+\"\\n\"\n",
    "results.write(s)"
   ]
  },
  {
   "cell_type": "code",
   "execution_count": 26,
   "metadata": {},
   "outputs": [],
   "source": [
    "testdata = open('testdata.txt')\n",
    "lines_test_data = testdata.readlines()\n",
    "\n",
    "prob_doc = [0 for i in range(len(cls_unique))]\n",
    "prod = []\n",
    "test_labels = []\n",
    "sort_prob_doc = []\n",
    "num = 0\n",
    "\n",
    "for line in lines_test_data :\n",
    "    for c in range(len(cls_unique)):\n",
    "        prod.clear()\n",
    "        words_test = line.split()\n",
    "        for x in words_test:\n",
    "            for y in range(len(vocab)):\n",
    "                if x == vocab[y] :\n",
    "                    prod.append(cond_prob_vocab[c][y])\n",
    "        if len(prod) > 0 :\n",
    "            prob_doc[c] = prior_prob[c]\n",
    "            for num in prod :\n",
    "                prob_doc[c] *= num  \n",
    "    # greatest values of prob is the class which the doc belongs to\n",
    "    ind_gr_prob = [i for i, j in enumerate(prob_doc) if j == max(prob_doc)]\n",
    "    test_labels.append(cls_unique[ind_gr_prob[0]])"
   ]
  },
  {
   "cell_type": "code",
   "execution_count": 27,
   "metadata": {},
   "outputs": [],
   "source": [
    "open(\"d_test_labels.txt\",\"w\").close()\n",
    "d_test_labels = open(\"d_test_labels.txt\",\"a\")\n",
    "for x in test_labels:\n",
    "    x += '\\n'\n",
    "    d_test_labels.write(x)"
   ]
  },
  {
   "cell_type": "code",
   "execution_count": null,
   "metadata": {},
   "outputs": [],
   "source": []
  }
 ],
 "metadata": {
  "kernelspec": {
   "display_name": "Python 3",
   "language": "python",
   "name": "python3"
  },
  "language_info": {
   "codemirror_mode": {
    "name": "ipython",
    "version": 3
   },
   "file_extension": ".py",
   "mimetype": "text/x-python",
   "name": "python",
   "nbconvert_exporter": "python",
   "pygments_lexer": "ipython3",
   "version": "3.7.3"
  }
 },
 "nbformat": 4,
 "nbformat_minor": 4
}
