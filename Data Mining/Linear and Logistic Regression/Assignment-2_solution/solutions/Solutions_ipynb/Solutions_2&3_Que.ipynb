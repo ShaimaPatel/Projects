{
 "cells": [
  {
   "cell_type": "code",
   "execution_count": 17,
   "metadata": {},
   "outputs": [],
   "source": [
    "import numpy as np\n",
    "import matplotlib.pyplot as plt"
   ]
  },
  {
   "cell_type": "code",
   "execution_count": 18,
   "metadata": {},
   "outputs": [],
   "source": [
    "    # #2 Logistic Regression"
   ]
  },
  {
   "cell_type": "code",
   "execution_count": 19,
   "metadata": {},
   "outputs": [],
   "source": [
    "# GPA, GRE scores dataset\n",
    "\n",
    "X=np.array([\n",
    "[1,1.0,1.0],\n",
    "[1,0.9,1.0],\n",
    "[1,0.9,0.875],\n",
    "[1,0.7,0.75],\n",
    "[1,0.6,0.875],\n",
    "[1,0.6,0.875],\n",
    "[1,0.5,0.75],\n",
    "[1,0.5,0.8125],\n",
    "[1,0.5,1.0],\n",
    "[1,0.5,0.875],\n",
    "[1,0.5,0.875]])\n",
    "\n",
    "y=np.array([[\n",
    "1,\n",
    "1,\n",
    "1,\n",
    "-1,\n",
    "-1,\n",
    "1,\n",
    "-1,\n",
    "-1,\n",
    "1,\n",
    "-1,\n",
    "1\n",
    "]]).T;\n"
   ]
  },
  {
   "cell_type": "code",
   "execution_count": 20,
   "metadata": {},
   "outputs": [
    {
     "name": "stdout",
     "output_type": "stream",
     "text": [
      "1.1564462905916348\n"
     ]
    }
   ],
   "source": [
    "w = np.ones((1,X.shape[1]))\n",
    "#TODO\n",
    "def error(x,y,w):\n",
    "      \n",
    "    ln = np.log(1 + (np.exp(-(y)*(x@w.T))))\n",
    "\n",
    "    return ln\n",
    "\n",
    "#TODO\n",
    "def error_mean(X,y,w):\n",
    "    l = error(X,y,w)\n",
    "    m = np.mean(l)\n",
    "    return m\n",
    "\n",
    "print(error_mean(X,y,w))"
   ]
  },
  {
   "cell_type": "code",
   "execution_count": 23,
   "metadata": {},
   "outputs": [
    {
     "name": "stdout",
     "output_type": "stream",
     "text": [
      "[0.37959402 0.20802755 0.30424018]\n"
     ]
    }
   ],
   "source": [
    "#TODO\n",
    "def grad(x,y,w):\n",
    "    \n",
    "    fn = ((y)*(x))/(1+np.exp((y)*(x@w.T)))\n",
    "  \n",
    "    return fn\n",
    "\n",
    "#TODO\n",
    "def grad_mean(X,y,w):\n",
    "    f = -(grad(X,y,w)).mean(0)\n",
    "    return f\n",
    "\n",
    "print(grad_mean(X,y,w))"
   ]
  },
  {
   "cell_type": "code",
   "execution_count": 7,
   "metadata": {},
   "outputs": [
    {
     "name": "stdout",
     "output_type": "stream",
     "text": [
      "[[-1.98019655  2.00560449  1.0649168 ]]\n"
     ]
    },
    {
     "data": {
      "image/png": "[encoded data removed]",
      "text/plain": [
       "<Figure size 432x288 with 1 Axes>"
      ]
     },
     "metadata": {
      "needs_background": "light"
     },
     "output_type": "display_data"
    }
   ],
   "source": [
    "def fit(X,y,kappa,iter):\n",
    "    w = np.zeros((1,X.shape[1]))\n",
    "    E = []\n",
    "\n",
    "    #TODO  \n",
    "    for i in range(iter):\n",
    "        E.append(error_mean(X,y,w))\n",
    "        w += -(grad_mean(X,y,w))*(kappa)\n",
    "    return w,E\n",
    "\n",
    "w,E = fit(X,y,1,100)\n",
    "print(w)\n",
    "plt.plot(E)\n",
    "plt.show()"
   ]
  },
  {
   "cell_type": "code",
   "execution_count": null,
   "metadata": {},
   "outputs": [],
   "source": []
  },
  {
   "cell_type": "code",
   "execution_count": 8,
   "metadata": {},
   "outputs": [],
   "source": [
    "    # #3 Logistic Regression"
   ]
  },
  {
   "cell_type": "code",
   "execution_count": null,
   "metadata": {},
   "outputs": [],
   "source": []
  },
  {
   "cell_type": "code",
   "execution_count": 9,
   "metadata": {},
   "outputs": [
    {
     "data": {
      "text/html": [
       "<div>\n",
       "<style scoped>\n",
       "    .dataframe tbody tr th:only-of-type {\n",
       "        vertical-align: middle;\n",
       "    }\n",
       "\n",
       "    .dataframe tbody tr th {\n",
       "        vertical-align: top;\n",
       "    }\n",
       "\n",
       "    .dataframe thead th {\n",
       "        text-align: right;\n",
       "    }\n",
       "</style>\n",
       "<table border=\"1\" class=\"dataframe\">\n",
       "  <thead>\n",
       "    <tr style=\"text-align: right;\">\n",
       "      <th></th>\n",
       "      <th>Exam 1</th>\n",
       "      <th>Exam 2</th>\n",
       "      <th>Admitted</th>\n",
       "    </tr>\n",
       "  </thead>\n",
       "  <tbody>\n",
       "    <tr>\n",
       "      <th>0</th>\n",
       "      <td>34.623660</td>\n",
       "      <td>78.024693</td>\n",
       "      <td>0</td>\n",
       "    </tr>\n",
       "    <tr>\n",
       "      <th>1</th>\n",
       "      <td>30.286711</td>\n",
       "      <td>43.894998</td>\n",
       "      <td>0</td>\n",
       "    </tr>\n",
       "    <tr>\n",
       "      <th>2</th>\n",
       "      <td>35.847409</td>\n",
       "      <td>72.902198</td>\n",
       "      <td>0</td>\n",
       "    </tr>\n",
       "    <tr>\n",
       "      <th>3</th>\n",
       "      <td>60.182599</td>\n",
       "      <td>86.308552</td>\n",
       "      <td>1</td>\n",
       "    </tr>\n",
       "    <tr>\n",
       "      <th>4</th>\n",
       "      <td>79.032736</td>\n",
       "      <td>75.344376</td>\n",
       "      <td>1</td>\n",
       "    </tr>\n",
       "  </tbody>\n",
       "</table>\n",
       "</div>"
      ],
      "text/plain": [
       "      Exam 1     Exam 2  Admitted\n",
       "0  34.623660  78.024693         0\n",
       "1  30.286711  43.894998         0\n",
       "2  35.847409  72.902198         0\n",
       "3  60.182599  86.308552         1\n",
       "4  79.032736  75.344376         1"
      ]
     },
     "execution_count": 9,
     "metadata": {},
     "output_type": "execute_result"
    }
   ],
   "source": [
    "import pandas as pd\n",
    "\n",
    "data = pd.read_csv('ex3data.txt', header=None, names=['Exam 1', 'Exam 2', 'Admitted'])\n",
    "data.head()"
   ]
  },
  {
   "cell_type": "code",
   "execution_count": 10,
   "metadata": {},
   "outputs": [],
   "source": [
    "# we use .values to obtain the underlying numpy array of the dataframe\n",
    "# we use iloc in order to access parts of the dataframe by using ranges; -1 is the last column\n",
    "X = data.iloc[:,0:-1].values\n",
    "\n",
    "# we normalize X\n",
    "maxX = np.max(X, axis=0)\n",
    "minX = np.min(X, axis=0)\n",
    "X = (X-minX)/(maxX-minX)\n",
    "#print( X )\n",
    "\n",
    "\n",
    "# we insert an all-ones column at index 0\n",
    "X = np.insert(X, 0, 1, axis=1)\n",
    "\n",
    "#print(X)\n",
    "\n",
    "y = data.iloc[:,-1:].values \n",
    "\n",
    "\n",
    "# we build a boolean index\n",
    "where_are_zeros = (y==0)\n",
    "y[where_are_zeros] = -1\n",
    "\n",
    "#print(y)\n",
    "\n",
    "# uncomment the above printouts to see what's going one"
   ]
  },
  {
   "cell_type": "code",
   "execution_count": 11,
   "metadata": {},
   "outputs": [],
   "source": [
    "def prepare(data):\n",
    "    X = data.iloc[:,0:-1].values\n",
    "\n",
    "    # we normalize X\n",
    "    maxX = np.max(X, axis=0)\n",
    "    minX = np.min(X, axis=0)\n",
    "    X = (X-minX)/(maxX-minX)\n",
    "\n",
    "    # we insert an all-ones column at index 0\n",
    "    X = np.insert(X, 0, 1, axis=1)\n",
    "\n",
    "    y = data.iloc[:,-1:].values \n",
    "\n",
    "    where_are_zeros = (y==0)\n",
    "    y[where_are_zeros] = -1\n",
    "    \n",
    "    return X,y\n",
    "\n",
    "\n",
    "X,y = prepare(data)\n",
    "#print(X)\n",
    "#print(y)"
   ]
  },
  {
   "cell_type": "code",
   "execution_count": 12,
   "metadata": {},
   "outputs": [
    {
     "data": {
      "image/png": "[encoded data removed]",
      "text/plain": [
       "<Figure size 864x576 with 1 Axes>"
      ]
     },
     "metadata": {
      "needs_background": "light"
     },
     "output_type": "display_data"
    }
   ],
   "source": [
    "def visualize(X, y, col1=1, col2=2):\n",
    "    positive_indexes = np.where(y == 1)[0]  #only the first element of the result is needed, i.e. we do [0]\n",
    "    negative_indexes = np.where(y == -1)[0]\n",
    "\n",
    "    positive = X[positive_indexes]  # positive rows\n",
    "    negative = X[negative_indexes]  # negative rows\n",
    "\n",
    "    fig, ax = plt.subplots(figsize=(12,8))\n",
    "    ax.scatter(positive[:,1:2], positive[:,2:], s=50, c='b', marker='o', label='Positive')\n",
    "    ax.scatter(negative[:,1:2], negative[:,2:], s=50, c='r', marker='x', label='Negative')\n",
    "    ax.legend()\n",
    "    ax.set_xlabel('col' + str(col1))\n",
    "    ax.set_ylabel('col' + str(col2))\n",
    "\n",
    "    plt.show()\n",
    "    \n",
    "\n",
    "visualize(X,y)"
   ]
  },
  {
   "cell_type": "code",
   "execution_count": 13,
   "metadata": {},
   "outputs": [
    {
     "name": "stdout",
     "output_type": "stream",
     "text": [
      "[[-8.18922472  9.35074421  8.77019163]]\n"
     ]
    },
    {
     "data": {
      "image/png": "[encoded data removed]",
      "text/plain": [
       "<Figure size 432x288 with 1 Axes>"
      ]
     },
     "metadata": {
      "needs_background": "light"
     },
     "output_type": "display_data"
    }
   ],
   "source": [
    "w,E = fit(X,y,1,1000)\n",
    "print(w)\n",
    "plt.plot(E)\n",
    "plt.show()\n",
    "\n",
    "# We should get a decreasing curve"
   ]
  },
  {
   "cell_type": "code",
   "execution_count": 14,
   "metadata": {},
   "outputs": [
    {
     "name": "stdout",
     "output_type": "stream",
     "text": [
      "0.89\n"
     ]
    }
   ],
   "source": [
    "#TODO\n",
    "def predict(w, X):\n",
    "    \n",
    "    fn = 1/(1+np.exp(-(X@w.T)))\n",
    "    y_prd=np.zeros(y.shape)\n",
    "    for i in range(X.shape[0]):\n",
    "        if fn[i]>0.5:\n",
    "            y_prd[i]=1\n",
    "        else :\n",
    "            y_prd[i]=-1\n",
    "\n",
    "    return y_prd\n",
    "\n",
    "#TODO\n",
    "def accuracy(y,y_pred):\n",
    "    count = 0\n",
    "    for i in range(len(y)):\n",
    "        if y[i]==y_pred[i]:\n",
    "            count += 1\n",
    "    acc = count/y.shape[0]\n",
    "    return acc\n",
    "\n",
    "y_pred = predict(w,X)\n",
    "print( accuracy(y,y_pred) )"
   ]
  },
  {
   "cell_type": "code",
   "execution_count": 15,
   "metadata": {},
   "outputs": [],
   "source": [
    "def split_train_test(X,y,pct=80):\n",
    "    n = X.shape[0]\n",
    "    s = round(n * pct / 100)\n",
    "    \n",
    "    indices = np.random.permutation(n)\n",
    "    train_idx, test_idx = indices[:s], indices[s:]\n",
    "    \n",
    "    X_train, X_test = X[train_idx,:], X[test_idx,:]\n",
    "    y_train, y_test = y[train_idx,:], y[test_idx,:]\n",
    "    \n",
    "    return X_train, y_train, X_test, y_test"
   ]
  },
  {
   "cell_type": "code",
   "execution_count": 16,
   "metadata": {},
   "outputs": [
    {
     "name": "stdout",
     "output_type": "stream",
     "text": [
      "[[-8.3853852   9.1624022   8.97790621]]\n"
     ]
    },
    {
     "data": {
      "image/png": "[encoded data removed]",
      "text/plain": [
       "<Figure size 432x288 with 1 Axes>"
      ]
     },
     "metadata": {
      "needs_background": "light"
     },
     "output_type": "display_data"
    },
    {
     "name": "stdout",
     "output_type": "stream",
     "text": [
      "0.9\n"
     ]
    }
   ],
   "source": [
    "X_train, y_train, X_test, y_test = split_train_test(X,y,pct=80)\n",
    "w,E = fit(X_train,y_train,1,1000)\n",
    "print(w)\n",
    "plt.plot(E)\n",
    "plt.show()\n",
    "y_pred = predict(w,X_test)\n",
    "print( accuracy(y_test,y_pred) )"
   ]
  },
  {
   "cell_type": "code",
   "execution_count": null,
   "metadata": {},
   "outputs": [],
   "source": []
  }
 ],
 "metadata": {
  "kernelspec": {
   "display_name": "Python 3",
   "language": "python",
   "name": "python3"
  },
  "language_info": {
   "codemirror_mode": {
    "name": "ipython",
    "version": 3
   },
   "file_extension": ".py",
   "mimetype": "text/x-python",
   "name": "python",
   "nbconvert_exporter": "python",
   "pygments_lexer": "ipython3",
   "version": "3.7.3"
  }
 },
 "nbformat": 4,
 "nbformat_minor": 4
}
